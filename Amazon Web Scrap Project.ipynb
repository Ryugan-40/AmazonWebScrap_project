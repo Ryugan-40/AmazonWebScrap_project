{
 "cells": [
  {
   "cell_type": "markdown",
   "id": "ad22535f",
   "metadata": {},
   "source": [
    "# Amazon web scrap project"
   ]
  },
  {
   "cell_type": "code",
   "execution_count": 2,
   "id": "067d96f0",
   "metadata": {},
   "outputs": [],
   "source": [
    "from bs4 import BeautifulSoup\n",
    "import requests\n",
    "import time\n",
    "import datetime\n",
    "import smtplib"
   ]
  },
  {
   "cell_type": "code",
   "execution_count": 6,
   "id": "0ab1b93a",
   "metadata": {},
   "outputs": [],
   "source": [
    "url = 'https://www.amazon.in/Raymond-Solid-Regular-T-Shirt-RCKE01125-F5_Medium/dp/B0CK6HS3L1/ref=sr_1_1_sspa?crid=1DIDPSWQEGNT8&dib=eyJ2IjoiMSJ9.zDLdWYIiIDI_vYH9tdcgJFP3Lm4aO1_FeSBbXfd6jB03ZnZ8RZD4nMLnFCkTMH1Vq4Yvl4jHkLuKnbGBVFfEwsMzPmpfqUz6ryhqMjMxkPQ.CKN3W2cs-7S5IqFbgBkiQd_69smhe2GBJM9hAEESN3A&dib_tag=se&keywords=data%2Banalyst%2Btshirt&qid=1711300326&sprefix=data%2Bana%2Caps%2C273&sr=8-1-spons&sp_csd=d2lkZ2V0TmFtZT1zcF9hdGY&psc=1'\n",
    "headers = {\"User-Agent\": \"Mozilla/5.0 (Windows NT 10.0; Win64; x64) AppleWebKit/537.36 (KHTML, like Gecko) Chrome/122.0.0.0 Safari/537.36 Edg/122.0.0.0\"}\n",
    "\n",
    "page = requests.get(url, headers=headers)\n",
    "\n",
    "soup1 = BeautifulSoup(page.content, 'html.parser')\n",
    "soup2=BeautifulSoup(soup1.prettify(), 'html.parser')\n"
   ]
  },
  {
   "cell_type": "code",
   "execution_count": 32,
   "id": "b9ced711",
   "metadata": {},
   "outputs": [
    {
     "name": "stdout",
     "output_type": "stream",
     "text": [
      "Raymond Contemporary Fit Dark Maroon T-Shirt for Men\n",
      "1,949\n",
      "                       \n",
      "                        .\n"
     ]
    }
   ],
   "source": [
    "title=soup2.find(id='productTitle').get_text()\n",
    "title=title.strip()\n",
    "\n",
    "price=soup2.find(class_='a-price-whole').get_text()\n",
    "price=price.strip()\n",
    "\n",
    "print(title)\n",
    "print(price)"
   ]
  },
  {
   "cell_type": "code",
   "execution_count": 82,
   "id": "cb6a8b09",
   "metadata": {},
   "outputs": [],
   "source": [
    "import datetime\n",
    "import csv\n",
    "\n",
    "# Get the current date\n",
    "today = datetime.date.today()\n",
    "\n",
    "# Convert the date to string format\n",
    "today_str = str(today)\n",
    "\n",
    "\n",
    "# Define header and data\n",
    "header = ['Title', 'data', 'date']\n",
    "data = [title, price, today_str]\n",
    "\n",
    "# Write data to CSV file\n",
    "with open(r'C:\\Users\\devma\\OneDrive\\Desktop\\Python_Tutorial\\AmazonWebScrapeData.csv', 'w', newline='', encoding='UTF8') as f:\n",
    "    #writer = csv.writer(f)\n",
    "    #writer.writerow(header)\n",
    "    #writer.writerow(data)\n"
   ]
  },
  {
   "cell_type": "code",
   "execution_count": 87,
   "id": "294b3222",
   "metadata": {},
   "outputs": [
    {
     "data": {
      "text/html": [
       "<div>\n",
       "<style scoped>\n",
       "    .dataframe tbody tr th:only-of-type {\n",
       "        vertical-align: middle;\n",
       "    }\n",
       "\n",
       "    .dataframe tbody tr th {\n",
       "        vertical-align: top;\n",
       "    }\n",
       "\n",
       "    .dataframe thead th {\n",
       "        text-align: right;\n",
       "    }\n",
       "</style>\n",
       "<table border=\"1\" class=\"dataframe\">\n",
       "  <thead>\n",
       "    <tr style=\"text-align: right;\">\n",
       "      <th></th>\n",
       "      <th>Title</th>\n",
       "      <th>data</th>\n",
       "      <th>date</th>\n",
       "    </tr>\n",
       "  </thead>\n",
       "  <tbody>\n",
       "    <tr>\n",
       "      <th>0</th>\n",
       "      <td>Sample Title</td>\n",
       "      <td>10.99</td>\n",
       "      <td>2024-03-25</td>\n",
       "    </tr>\n",
       "    <tr>\n",
       "      <th>1</th>\n",
       "      <td>Raymond Contemporary Fit Dark Maroon T-Shirt f...</td>\n",
       "      <td>1,949\\n                       \\n              ...</td>\n",
       "      <td>2024-03-25</td>\n",
       "    </tr>\n",
       "    <tr>\n",
       "      <th>2</th>\n",
       "      <td>Raymond Contemporary Fit Dark Maroon T-Shirt f...</td>\n",
       "      <td>1,949\\n                       \\n              ...</td>\n",
       "      <td>2024-03-25</td>\n",
       "    </tr>\n",
       "    <tr>\n",
       "      <th>3</th>\n",
       "      <td>Raymond Contemporary Fit Dark Maroon T-Shirt f...</td>\n",
       "      <td>1,949\\n                       \\n              ...</td>\n",
       "      <td>2024-03-25</td>\n",
       "    </tr>\n",
       "    <tr>\n",
       "      <th>4</th>\n",
       "      <td>Raymond Contemporary Fit Dark Maroon T-Shirt f...</td>\n",
       "      <td>1,949\\n                       \\n              ...</td>\n",
       "      <td>2024-03-25</td>\n",
       "    </tr>\n",
       "  </tbody>\n",
       "</table>\n",
       "</div>"
      ],
      "text/plain": [
       "                                               Title  \\\n",
       "0                                       Sample Title   \n",
       "1  Raymond Contemporary Fit Dark Maroon T-Shirt f...   \n",
       "2  Raymond Contemporary Fit Dark Maroon T-Shirt f...   \n",
       "3  Raymond Contemporary Fit Dark Maroon T-Shirt f...   \n",
       "4  Raymond Contemporary Fit Dark Maroon T-Shirt f...   \n",
       "\n",
       "                                                data        date  \n",
       "0                                              10.99  2024-03-25  \n",
       "1  1,949\\n                       \\n              ...  2024-03-25  \n",
       "2  1,949\\n                       \\n              ...  2024-03-25  \n",
       "3  1,949\\n                       \\n              ...  2024-03-25  \n",
       "4  1,949\\n                       \\n              ...  2024-03-25  "
      ]
     },
     "execution_count": 87,
     "metadata": {},
     "output_type": "execute_result"
    }
   ],
   "source": [
    "import pandas as pd\n",
    "df=pd.read_csv(r\"C:\\Users\\devma\\OneDrive\\Desktop\\Python_Tutorial\\AmazonWebScrapeData.csv\")\n",
    "df"
   ]
  },
  {
   "cell_type": "code",
   "execution_count": 66,
   "id": "3fffebdd",
   "metadata": {},
   "outputs": [
    {
     "name": "stdout",
     "output_type": "stream",
     "text": [
      "2024-03-25\n"
     ]
    }
   ],
   "source": [
    "with open(r'C:\\Users\\devma\\OneDrive\\Desktop\\Python_Tutorial\\AmazonWebScrapeData.csv', 'a+', newline='', encoding='UTF8') as f:\n",
    "    writer = csv.writer(f)\n",
    "    writer.writerow(header)\n",
    "    writer.writerow(data)"
   ]
  },
  {
   "cell_type": "code",
   "execution_count": 85,
   "id": "a7efe9cd",
   "metadata": {},
   "outputs": [],
   "source": [
    "def check_price():\n",
    "    url = 'https://www.amazon.in/Raymond-Solid-Regular-T-Shirt-RCKE01125-F5_Medium/dp/B0CK6HS3L1/ref=sr_1_1_sspa?crid=1DIDPSWQEGNT8&dib=eyJ2IjoiMSJ9.zDLdWYIiIDI_vYH9tdcgJFP3Lm4aO1_FeSBbXfd6jB03ZnZ8RZD4nMLnFCkTMH1Vq4Yvl4jHkLuKnbGBVFfEwsMzPmpfqUz6ryhqMjMxkPQ.CKN3W2cs-7S5IqFbgBkiQd_69smhe2GBJM9hAEESN3A&dib_tag=se&keywords=data%2Banalyst%2Btshirt&qid=1711300326&sprefix=data%2Bana%2Caps%2C273&sr=8-1-spons&sp_csd=d2lkZ2V0TmFtZT1zcF9hdGY&psc=1'\n",
    "    headers = {\"User-Agent\": \"Mozilla/5.0 (Windows NT 10.0; Win64; x64) AppleWebKit/537.36 (KHTML, like Gecko) Chrome/122.0.0.0 Safari/537.36 Edg/122.0.0.0\"}\n",
    "    \n",
    "    page = requests.get(url, headers=headers)\n",
    "\n",
    "    soup1 = BeautifulSoup(page.content, 'html.parser')\n",
    "    soup2=BeautifulSoup(soup1.prettify(), 'html.parser')\n",
    "    title=soup2.find(id='productTitle').get_text()\n",
    "    title=title.strip()\n",
    "\n",
    "    price=soup2.find(class_='a-price-whole').get_text()\n",
    "    price=price.strip()\n",
    "\n",
    "    import datetime\n",
    "    import csv\n",
    "\n",
    "    # Get the current date\n",
    "    today = datetime.date.today()\n",
    "\n",
    "    # Convert the date to string format\n",
    "    today_str = str(today)\n",
    "\n",
    "\n",
    "    # Define header and data\n",
    "    header = ['Title', 'data', 'date']\n",
    "    data = [title, price, today_str]\n",
    "\n",
    "\n",
    "# Define header and data\n",
    "    header = ['Title', 'data', 'date']\n",
    "    data = [title, price, today_str]\n",
    "    with open(r'C:\\Users\\devma\\OneDrive\\Desktop\\Python_Tutorial\\AmazonWebScrapeData.csv', 'a+', newline='', encoding='UTF8') as f:\n",
    "        writer = csv.writer(f)\n",
    "        writer.writerow(data)\n",
    "        \n",
    "    #if price condition is met\n",
    "    if price<1500:\n",
    "        send_mail"
   ]
  },
  {
   "cell_type": "code",
   "execution_count": 86,
   "id": "bb1b8811",
   "metadata": {},
   "outputs": [
    {
     "ename": "KeyboardInterrupt",
     "evalue": "",
     "output_type": "error",
     "traceback": [
      "\u001b[1;31m---------------------------------------------------------------------------\u001b[0m",
      "\u001b[1;31mKeyboardInterrupt\u001b[0m                         Traceback (most recent call last)",
      "Cell \u001b[1;32mIn[86], line 3\u001b[0m\n\u001b[0;32m      1\u001b[0m \u001b[38;5;28;01mwhile\u001b[39;00m(\u001b[38;5;28;01mTrue\u001b[39;00m):\n\u001b[0;32m      2\u001b[0m     check_price()\n\u001b[1;32m----> 3\u001b[0m     time\u001b[38;5;241m.\u001b[39msleep(\u001b[38;5;241m4\u001b[39m)\n",
      "\u001b[1;31mKeyboardInterrupt\u001b[0m: "
     ]
    }
   ],
   "source": [
    "while(True):\n",
    "    check_price()\n",
    "    time.sleep(86400)\n",
    "    "
   ]
  },
  {
   "cell_type": "code",
   "execution_count": 88,
   "id": "0385f9de",
   "metadata": {},
   "outputs": [],
   "source": [
    "#to send a email if the condition is met\n",
    "def send_mail():\n",
    "    server = smtplib.SMTP_SSL('smtp.gmail.com',465)\n",
    "    server.ehlo()\n",
    "    #server.starttls()\n",
    "    server.ehlo()\n",
    "    server.login('Your email','Password')\n",
    "    \n",
    "    subject = \"The Shirt you want is below $15! Now is your chance to buy!\"\n",
    "    body = \"Name, This is the moment we have been waiting for. Now is your chance to pick up the shirt of your dreams. Don't mess it up! Link here: https://www.amazon.com/Funny-Data-Systems-Business-Analyst/dp/B07FNW9FGJ/ref=sr_1_3?dchild=1&keywords=data+analyst+tshirt&qid=1626655184&sr=8-3\"\n",
    "   \n",
    "    msg = f\"Subject: {subject}\\n\\n{body}\"\n",
    "    \n",
    "    server.sendmail(\n",
    "        'email',\n",
    "        msg\n",
    "     \n",
    "    )"
   ]
  },
  {
   "cell_type": "code",
   "execution_count": null,
   "id": "d9034962",
   "metadata": {},
   "outputs": [],
   "source": []
  }
 ],
 "metadata": {
  "kernelspec": {
   "display_name": "Python 3 (ipykernel)",
   "language": "python",
   "name": "python3"
  },
  "language_info": {
   "codemirror_mode": {
    "name": "ipython",
    "version": 3
   },
   "file_extension": ".py",
   "mimetype": "text/x-python",
   "name": "python",
   "nbconvert_exporter": "python",
   "pygments_lexer": "ipython3",
   "version": "3.11.5"
  }
 },
 "nbformat": 4,
 "nbformat_minor": 5
}
